{
 "cells": [
  {
   "cell_type": "code",
   "execution_count": 1,
   "id": "06e789f3",
   "metadata": {},
   "outputs": [],
   "source": [
    "import pandas as pd\n",
    "from datetime import datetime\n",
    "from sklearn.preprocessing import MinMaxScaler\n",
    "from sklearn.metrics.pairwise import cosine_similarity"
   ]
  },
  {
   "cell_type": "code",
   "execution_count": 2,
   "id": "826ca1e2",
   "metadata": {},
   "outputs": [],
   "source": [
    "# Load data\n",
    "customers = pd.read_csv('Customers.csv')\n",
    "transactions = pd.read_csv('Transactions.csv')\n",
    "products = pd.read_csv('Products.csv')\n",
    "\n",
    "# Merge transactions with customers and products\n",
    "merged_data = pd.merge(transactions, customers, on='CustomerID', how='left')\n",
    "merged_data = pd.merge(merged_data, products, on='ProductID', how='left')"
   ]
  },
  {
   "cell_type": "markdown",
   "id": "23df86f5",
   "metadata": {},
   "source": [
    "creating customer profile features and transaction behavior features"
   ]
  },
  {
   "cell_type": "code",
   "execution_count": 3,
   "id": "c86eae83",
   "metadata": {},
   "outputs": [],
   "source": [
    "from datetime import datetime\n",
    "\n",
    "# Feature 1: TotalSpent\n",
    "total_spent = merged_data.groupby('CustomerID')['TotalValue'].sum().reset_index()\n",
    "total_spent.columns = ['CustomerID', 'TotalSpent']\n",
    "\n",
    "# Feature 2: TransactionFrequency\n",
    "transaction_freq = merged_data.groupby('CustomerID')['TransactionID'].count().reset_index()\n",
    "transaction_freq.columns = ['CustomerID', 'TransactionFrequency']\n",
    "\n",
    "# Feature 3: AvgOrderValue\n",
    "avg_order_value = merged_data.groupby('CustomerID')['TotalValue'].mean().reset_index()\n",
    "avg_order_value.columns = ['CustomerID', 'AvgOrderValue']\n",
    "\n",
    "# Feature 4: FavoriteCategory\n",
    "favorite_category = merged_data.groupby(['CustomerID', 'Category']).size().reset_index(name='Count')\n",
    "favorite_category = favorite_category.loc[favorite_category.groupby('CustomerID')['Count'].idxmax()]\n",
    "favorite_category = favorite_category[['CustomerID', 'Category']]\n",
    "favorite_category.columns = ['CustomerID', 'FavoriteCategory']\n",
    "\n",
    "# Feature 5: Tenure (days since SignupDate)\n",
    "customers['SignupDate'] = pd.to_datetime(customers['SignupDate'])\n",
    "customers['Tenure'] = (datetime.now() - customers['SignupDate']).dt.days\n",
    "\n",
    "# Merge all features\n",
    "customer_features = pd.merge(customers, total_spent, on='CustomerID', how='left')\n",
    "customer_features = pd.merge(customer_features, transaction_freq, on='CustomerID', how='left')\n",
    "customer_features = pd.merge(customer_features, avg_order_value, on='CustomerID', how='left')\n",
    "customer_features = pd.merge(customer_features, favorite_category, on='CustomerID', how='left')"
   ]
  },
  {
   "cell_type": "code",
   "execution_count": 4,
   "id": "ad907677",
   "metadata": {},
   "outputs": [],
   "source": [
    "# One-hot encode Region and FavoriteCategory\n",
    "customer_features = pd.get_dummies(customer_features, columns=['Region', 'FavoriteCategory'], drop_first=True)"
   ]
  },
  {
   "cell_type": "code",
   "execution_count": 5,
   "id": "221017cb",
   "metadata": {},
   "outputs": [],
   "source": [
    "# Normalize numerical features\n",
    "scaler = MinMaxScaler()\n",
    "numerical_features = ['TotalSpent', 'TransactionFrequency', 'AvgOrderValue', 'Tenure']\n",
    "customer_features[numerical_features] = scaler.fit_transform(customer_features[numerical_features])"
   ]
  },
  {
   "cell_type": "code",
   "execution_count": 6,
   "id": "a5b7cbf7",
   "metadata": {},
   "outputs": [],
   "source": [
    "# Handle missing values\n",
    "customer_features = customer_features.dropna() \n",
    "\n",
    "# Drop non-feature columns\n",
    "feature_columns = customer_features.drop(columns=['CustomerID', 'CustomerName', 'SignupDate'])\n",
    "\n",
    "# Compute cosine similarity\n",
    "similarity_matrix = cosine_similarity(feature_columns)"
   ]
  },
  {
   "cell_type": "code",
   "execution_count": 7,
   "id": "20219583",
   "metadata": {},
   "outputs": [],
   "source": [
    "# Convert similarity matrix to DataFrame\n",
    "similarity_df = pd.DataFrame(similarity_matrix, index=customer_features['CustomerID'], columns=customer_features['CustomerID'])"
   ]
  },
  {
   "cell_type": "code",
   "execution_count": 8,
   "id": "c68af93b",
   "metadata": {},
   "outputs": [
    {
     "name": "stdout",
     "output_type": "stream",
     "text": [
      "[('C0192', 0.994281729689659), ('C0112', 0.9911771279314008), ('C0184', 0.9903750855502597)]\n"
     ]
    }
   ],
   "source": [
    "# Function to get top 3 similar customers\n",
    "def get_top_similar_customers(customer_id, similarity_df, top_n=3):\n",
    "    similarities = similarity_df[customer_id].sort_values(ascending=False)\n",
    "    top_similarities = similarities.iloc[1:top_n+1]  # Exclude the customer itself\n",
    "    return list(zip(top_similarities.index, top_similarities.values))\n",
    "\n",
    "# Example: Get top 3 similar customers for C0001\n",
    "top_similar_customers = get_top_similar_customers('C0001', similarity_df)\n",
    "print(top_similar_customers)"
   ]
  },
  {
   "cell_type": "code",
   "execution_count": 9,
   "id": "6b620234",
   "metadata": {},
   "outputs": [],
   "source": [
    "# Generate recommendations for the first 20 customers\n",
    "recommendations = {}\n",
    "for customer_id in customer_features['CustomerID'][:20]:\n",
    "    recommendations[customer_id] = get_top_similar_customers(customer_id, similarity_df)\n",
    "\n",
    "# Convert to the required format\n",
    "lookalike_data = {cust_id: [(sim_cust, score) for sim_cust, score in sim_list] for cust_id, sim_list in recommendations.items()}"
   ]
  },
  {
   "cell_type": "code",
   "execution_count": 10,
   "id": "d6ad655b",
   "metadata": {},
   "outputs": [],
   "source": [
    "import csv\n",
    "\n",
    "# Save to CSV\n",
    "with open('Lookalike.csv', 'w', newline='') as file:\n",
    "    writer = csv.writer(file)\n",
    "    writer.writerow(['CustomerID', 'SimilarCustomers'])\n",
    "    for cust_id, sim_list in lookalike_data.items():\n",
    "        writer.writerow([cust_id, sim_list])"
   ]
  }
 ],
 "metadata": {
  "kernelspec": {
   "display_name": "Python 3 (ipykernel)",
   "language": "python",
   "name": "python3"
  },
  "language_info": {
   "codemirror_mode": {
    "name": "ipython",
    "version": 3
   },
   "file_extension": ".py",
   "mimetype": "text/x-python",
   "name": "python",
   "nbconvert_exporter": "python",
   "pygments_lexer": "ipython3",
   "version": "3.11.5"
  }
 },
 "nbformat": 4,
 "nbformat_minor": 5
}
